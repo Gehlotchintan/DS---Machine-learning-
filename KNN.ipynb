{
 "cells": [
  {
   "cell_type": "code",
   "execution_count": 1,
   "metadata": {},
   "outputs": [],
   "source": [
    "import numpy as np \n",
    "import pandas as pd \n",
    "import matplotlib.pyplot as plt \n",
    "import seaborn as sns \n",
    "%matplotlib inline "
   ]
  },
  {
   "cell_type": "code",
   "execution_count": 2,
   "metadata": {},
   "outputs": [],
   "source": [
    "from sklearn.datasets import make_classification"
   ]
  },
  {
   "cell_type": "code",
   "execution_count": 3,
   "metadata": {},
   "outputs": [],
   "source": [
    "x,y=make_classification(n_samples=1000,n_features=3,n_informative=2,n_redundant=1,n_classes=2,random_state=42)"
   ]
  },
  {
   "cell_type": "code",
   "execution_count": 4,
   "metadata": {},
   "outputs": [],
   "source": [
    "from sklearn.model_selection import train_test_split"
   ]
  },
  {
   "cell_type": "code",
   "execution_count": 5,
   "metadata": {},
   "outputs": [],
   "source": [
    "x_train,x_test,y_train,y_test=train_test_split(x,y,test_size=0.3,random_state=12)"
   ]
  },
  {
   "cell_type": "code",
   "execution_count": 7,
   "metadata": {},
   "outputs": [],
   "source": [
    "from sklearn.neighbors import KNeighborsClassifier"
   ]
  },
  {
   "cell_type": "code",
   "execution_count": 8,
   "metadata": {},
   "outputs": [],
   "source": [
    "knn=KNeighborsClassifier(n_neighbors=5)"
   ]
  },
  {
   "cell_type": "code",
   "execution_count": 9,
   "metadata": {},
   "outputs": [
    {
     "data": {
      "text/html": [
       "<style>#sk-container-id-1 {color: black;}#sk-container-id-1 pre{padding: 0;}#sk-container-id-1 div.sk-toggleable {background-color: white;}#sk-container-id-1 label.sk-toggleable__label {cursor: pointer;display: block;width: 100%;margin-bottom: 0;padding: 0.3em;box-sizing: border-box;text-align: center;}#sk-container-id-1 label.sk-toggleable__label-arrow:before {content: \"▸\";float: left;margin-right: 0.25em;color: #696969;}#sk-container-id-1 label.sk-toggleable__label-arrow:hover:before {color: black;}#sk-container-id-1 div.sk-estimator:hover label.sk-toggleable__label-arrow:before {color: black;}#sk-container-id-1 div.sk-toggleable__content {max-height: 0;max-width: 0;overflow: hidden;text-align: left;background-color: #f0f8ff;}#sk-container-id-1 div.sk-toggleable__content pre {margin: 0.2em;color: black;border-radius: 0.25em;background-color: #f0f8ff;}#sk-container-id-1 input.sk-toggleable__control:checked~div.sk-toggleable__content {max-height: 200px;max-width: 100%;overflow: auto;}#sk-container-id-1 input.sk-toggleable__control:checked~label.sk-toggleable__label-arrow:before {content: \"▾\";}#sk-container-id-1 div.sk-estimator input.sk-toggleable__control:checked~label.sk-toggleable__label {background-color: #d4ebff;}#sk-container-id-1 div.sk-label input.sk-toggleable__control:checked~label.sk-toggleable__label {background-color: #d4ebff;}#sk-container-id-1 input.sk-hidden--visually {border: 0;clip: rect(1px 1px 1px 1px);clip: rect(1px, 1px, 1px, 1px);height: 1px;margin: -1px;overflow: hidden;padding: 0;position: absolute;width: 1px;}#sk-container-id-1 div.sk-estimator {font-family: monospace;background-color: #f0f8ff;border: 1px dotted black;border-radius: 0.25em;box-sizing: border-box;margin-bottom: 0.5em;}#sk-container-id-1 div.sk-estimator:hover {background-color: #d4ebff;}#sk-container-id-1 div.sk-parallel-item::after {content: \"\";width: 100%;border-bottom: 1px solid gray;flex-grow: 1;}#sk-container-id-1 div.sk-label:hover label.sk-toggleable__label {background-color: #d4ebff;}#sk-container-id-1 div.sk-serial::before {content: \"\";position: absolute;border-left: 1px solid gray;box-sizing: border-box;top: 0;bottom: 0;left: 50%;z-index: 0;}#sk-container-id-1 div.sk-serial {display: flex;flex-direction: column;align-items: center;background-color: white;padding-right: 0.2em;padding-left: 0.2em;position: relative;}#sk-container-id-1 div.sk-item {position: relative;z-index: 1;}#sk-container-id-1 div.sk-parallel {display: flex;align-items: stretch;justify-content: center;background-color: white;position: relative;}#sk-container-id-1 div.sk-item::before, #sk-container-id-1 div.sk-parallel-item::before {content: \"\";position: absolute;border-left: 1px solid gray;box-sizing: border-box;top: 0;bottom: 0;left: 50%;z-index: -1;}#sk-container-id-1 div.sk-parallel-item {display: flex;flex-direction: column;z-index: 1;position: relative;background-color: white;}#sk-container-id-1 div.sk-parallel-item:first-child::after {align-self: flex-end;width: 50%;}#sk-container-id-1 div.sk-parallel-item:last-child::after {align-self: flex-start;width: 50%;}#sk-container-id-1 div.sk-parallel-item:only-child::after {width: 0;}#sk-container-id-1 div.sk-dashed-wrapped {border: 1px dashed gray;margin: 0 0.4em 0.5em 0.4em;box-sizing: border-box;padding-bottom: 0.4em;background-color: white;}#sk-container-id-1 div.sk-label label {font-family: monospace;font-weight: bold;display: inline-block;line-height: 1.2em;}#sk-container-id-1 div.sk-label-container {text-align: center;}#sk-container-id-1 div.sk-container {/* jupyter's `normalize.less` sets `[hidden] { display: none; }` but bootstrap.min.css set `[hidden] { display: none !important; }` so we also need the `!important` here to be able to override the default hidden behavior on the sphinx rendered scikit-learn.org. See: https://github.com/scikit-learn/scikit-learn/issues/21755 */display: inline-block !important;position: relative;}#sk-container-id-1 div.sk-text-repr-fallback {display: none;}</style><div id=\"sk-container-id-1\" class=\"sk-top-container\"><div class=\"sk-text-repr-fallback\"><pre>KNeighborsClassifier()</pre><b>In a Jupyter environment, please rerun this cell to show the HTML representation or trust the notebook. <br />On GitHub, the HTML representation is unable to render, please try loading this page with nbviewer.org.</b></div><div class=\"sk-container\" hidden><div class=\"sk-item\"><div class=\"sk-estimator sk-toggleable\"><input class=\"sk-toggleable__control sk-hidden--visually\" id=\"sk-estimator-id-1\" type=\"checkbox\" checked><label for=\"sk-estimator-id-1\" class=\"sk-toggleable__label sk-toggleable__label-arrow\">KNeighborsClassifier</label><div class=\"sk-toggleable__content\"><pre>KNeighborsClassifier()</pre></div></div></div></div></div>"
      ],
      "text/plain": [
       "KNeighborsClassifier()"
      ]
     },
     "execution_count": 9,
     "metadata": {},
     "output_type": "execute_result"
    }
   ],
   "source": [
    "knn.fit(x_train,y_train)"
   ]
  },
  {
   "cell_type": "code",
   "execution_count": 11,
   "metadata": {},
   "outputs": [],
   "source": [
    "y_pred= knn.predict(x_test)"
   ]
  },
  {
   "cell_type": "code",
   "execution_count": 12,
   "metadata": {},
   "outputs": [],
   "source": [
    "from sklearn.metrics import accuracy_score,confusion_matrix,classification_report\n"
   ]
  },
  {
   "cell_type": "code",
   "execution_count": 14,
   "metadata": {},
   "outputs": [
    {
     "name": "stdout",
     "output_type": "stream",
     "text": [
      "0.9166666666666666\n",
      "[[161   8]\n",
      " [ 17 114]]\n",
      "              precision    recall  f1-score   support\n",
      "\n",
      "           0       0.90      0.95      0.93       169\n",
      "           1       0.93      0.87      0.90       131\n",
      "\n",
      "    accuracy                           0.92       300\n",
      "   macro avg       0.92      0.91      0.91       300\n",
      "weighted avg       0.92      0.92      0.92       300\n",
      "\n"
     ]
    }
   ],
   "source": [
    "print(accuracy_score(y_test,y_pred))\n",
    "print(confusion_matrix(y_test,y_pred))\n",
    "print(classification_report(y_test,y_pred))"
   ]
  },
  {
   "cell_type": "markdown",
   "metadata": {},
   "source": [
    "# Hyper parametr tuning using GSCV"
   ]
  },
  {
   "cell_type": "code",
   "execution_count": 28,
   "metadata": {},
   "outputs": [],
   "source": [
    "from sklearn.model_selection import GridSearchCV\n",
    "from sklearn.neighbors import KNeighborsClassifier\n",
    "from sklearn.metrics import accuracy_score,confusion_matrix,classification_report"
   ]
  },
  {
   "cell_type": "code",
   "execution_count": 29,
   "metadata": {},
   "outputs": [],
   "source": [
    "parameters= {\n",
    "    'n_neighbors':[5,10,15,20,25],\n",
    "     'algorithm' : ['ball_tree', 'kd_tree', 'brute'],\n",
    "    'weights': ['uniform', 'distance'],\n",
    "    'p':[1,2]\n",
    "}"
   ]
  },
  {
   "cell_type": "code",
   "execution_count": 30,
   "metadata": {},
   "outputs": [],
   "source": [
    "Knn_classifier=KNeighborsClassifier()"
   ]
  },
  {
   "cell_type": "code",
   "execution_count": 31,
   "metadata": {},
   "outputs": [],
   "source": [
    "clf=GridSearchCV(Knn_classifier,param_grid=parameters,cv=5,scoring='accuracy',verbose=3)"
   ]
  },
  {
   "cell_type": "code",
   "execution_count": 32,
   "metadata": {},
   "outputs": [
    {
     "name": "stdout",
     "output_type": "stream",
     "text": [
      "Fitting 5 folds for each of 60 candidates, totalling 300 fits\n",
      "[CV 1/5] END algorithm=ball_tree, n_neighbors=5, p=1, weights=uniform;, score=0.886 total time=   0.0s\n",
      "[CV 2/5] END algorithm=ball_tree, n_neighbors=5, p=1, weights=uniform;, score=0.936 total time=   0.0s\n",
      "[CV 3/5] END algorithm=ball_tree, n_neighbors=5, p=1, weights=uniform;, score=0.936 total time=   0.0s\n",
      "[CV 4/5] END algorithm=ball_tree, n_neighbors=5, p=1, weights=uniform;, score=0.907 total time=   0.0s\n",
      "[CV 5/5] END algorithm=ball_tree, n_neighbors=5, p=1, weights=uniform;, score=0.886 total time=   0.0s\n",
      "[CV 1/5] END algorithm=ball_tree, n_neighbors=5, p=1, weights=distance;, score=0.886 total time=   0.0s\n",
      "[CV 2/5] END algorithm=ball_tree, n_neighbors=5, p=1, weights=distance;, score=0.929 total time=   0.0s\n",
      "[CV 3/5] END algorithm=ball_tree, n_neighbors=5, p=1, weights=distance;, score=0.929 total time=   0.0s\n",
      "[CV 4/5] END algorithm=ball_tree, n_neighbors=5, p=1, weights=distance;, score=0.886 total time=   0.0s\n",
      "[CV 5/5] END algorithm=ball_tree, n_neighbors=5, p=1, weights=distance;, score=0.879 total time=   0.0s\n",
      "[CV 1/5] END algorithm=ball_tree, n_neighbors=5, p=2, weights=uniform;, score=0.907 total time=   0.0s\n",
      "[CV 2/5] END algorithm=ball_tree, n_neighbors=5, p=2, weights=uniform;, score=0.936 total time=   0.0s\n",
      "[CV 3/5] END algorithm=ball_tree, n_neighbors=5, p=2, weights=uniform;, score=0.936 total time=   0.0s\n",
      "[CV 4/5] END algorithm=ball_tree, n_neighbors=5, p=2, weights=uniform;, score=0.907 total time=   0.0s\n",
      "[CV 5/5] END algorithm=ball_tree, n_neighbors=5, p=2, weights=uniform;, score=0.879 total time=   0.0s\n",
      "[CV 1/5] END algorithm=ball_tree, n_neighbors=5, p=2, weights=distance;, score=0.893 total time=   0.0s\n",
      "[CV 2/5] END algorithm=ball_tree, n_neighbors=5, p=2, weights=distance;, score=0.929 total time=   0.0s\n",
      "[CV 3/5] END algorithm=ball_tree, n_neighbors=5, p=2, weights=distance;, score=0.929 total time=   0.0s\n",
      "[CV 4/5] END algorithm=ball_tree, n_neighbors=5, p=2, weights=distance;, score=0.900 total time=   0.0s\n",
      "[CV 5/5] END algorithm=ball_tree, n_neighbors=5, p=2, weights=distance;, score=0.886 total time=   0.0s\n",
      "[CV 1/5] END algorithm=ball_tree, n_neighbors=10, p=1, weights=uniform;, score=0.921 total time=   0.0s\n",
      "[CV 2/5] END algorithm=ball_tree, n_neighbors=10, p=1, weights=uniform;, score=0.914 total time=   0.0s\n",
      "[CV 3/5] END algorithm=ball_tree, n_neighbors=10, p=1, weights=uniform;, score=0.943 total time=   0.0s\n",
      "[CV 4/5] END algorithm=ball_tree, n_neighbors=10, p=1, weights=uniform;, score=0.914 total time=   0.0s\n",
      "[CV 5/5] END algorithm=ball_tree, n_neighbors=10, p=1, weights=uniform;, score=0.850 total time=   0.0s\n",
      "[CV 1/5] END algorithm=ball_tree, n_neighbors=10, p=1, weights=distance;, score=0.900 total time=   0.0s\n",
      "[CV 2/5] END algorithm=ball_tree, n_neighbors=10, p=1, weights=distance;, score=0.943 total time=   0.0s\n",
      "[CV 3/5] END algorithm=ball_tree, n_neighbors=10, p=1, weights=distance;, score=0.929 total time=   0.0s\n",
      "[CV 4/5] END algorithm=ball_tree, n_neighbors=10, p=1, weights=distance;, score=0.907 total time=   0.0s\n",
      "[CV 5/5] END algorithm=ball_tree, n_neighbors=10, p=1, weights=distance;, score=0.879 total time=   0.0s\n",
      "[CV 1/5] END algorithm=ball_tree, n_neighbors=10, p=2, weights=uniform;, score=0.914 total time=   0.0s\n",
      "[CV 2/5] END algorithm=ball_tree, n_neighbors=10, p=2, weights=uniform;, score=0.929 total time=   0.0s\n",
      "[CV 3/5] END algorithm=ball_tree, n_neighbors=10, p=2, weights=uniform;, score=0.936 total time=   0.0s\n",
      "[CV 4/5] END algorithm=ball_tree, n_neighbors=10, p=2, weights=uniform;, score=0.914 total time=   0.0s\n",
      "[CV 5/5] END algorithm=ball_tree, n_neighbors=10, p=2, weights=uniform;, score=0.864 total time=   0.0s\n",
      "[CV 1/5] END algorithm=ball_tree, n_neighbors=10, p=2, weights=distance;, score=0.900 total time=   0.0s\n",
      "[CV 2/5] END algorithm=ball_tree, n_neighbors=10, p=2, weights=distance;, score=0.936 total time=   0.0s\n",
      "[CV 3/5] END algorithm=ball_tree, n_neighbors=10, p=2, weights=distance;, score=0.929 total time=   0.0s\n",
      "[CV 4/5] END algorithm=ball_tree, n_neighbors=10, p=2, weights=distance;, score=0.914 total time=   0.0s\n",
      "[CV 5/5] END algorithm=ball_tree, n_neighbors=10, p=2, weights=distance;, score=0.879 total time=   0.0s\n",
      "[CV 1/5] END algorithm=ball_tree, n_neighbors=15, p=1, weights=uniform;, score=0.900 total time=   0.0s\n",
      "[CV 2/5] END algorithm=ball_tree, n_neighbors=15, p=1, weights=uniform;, score=0.914 total time=   0.0s\n",
      "[CV 3/5] END algorithm=ball_tree, n_neighbors=15, p=1, weights=uniform;, score=0.936 total time=   0.0s\n",
      "[CV 4/5] END algorithm=ball_tree, n_neighbors=15, p=1, weights=uniform;, score=0.900 total time=   0.0s\n",
      "[CV 5/5] END algorithm=ball_tree, n_neighbors=15, p=1, weights=uniform;, score=0.857 total time=   0.0s\n",
      "[CV 1/5] END algorithm=ball_tree, n_neighbors=15, p=1, weights=distance;, score=0.907 total time=   0.0s\n",
      "[CV 2/5] END algorithm=ball_tree, n_neighbors=15, p=1, weights=distance;, score=0.943 total time=   0.0s\n",
      "[CV 3/5] END algorithm=ball_tree, n_neighbors=15, p=1, weights=distance;, score=0.929 total time=   0.0s\n",
      "[CV 4/5] END algorithm=ball_tree, n_neighbors=15, p=1, weights=distance;, score=0.907 total time=   0.0s\n",
      "[CV 5/5] END algorithm=ball_tree, n_neighbors=15, p=1, weights=distance;, score=0.886 total time=   0.0s\n",
      "[CV 1/5] END algorithm=ball_tree, n_neighbors=15, p=2, weights=uniform;, score=0.907 total time=   0.0s\n",
      "[CV 2/5] END algorithm=ball_tree, n_neighbors=15, p=2, weights=uniform;, score=0.914 total time=   0.0s\n",
      "[CV 3/5] END algorithm=ball_tree, n_neighbors=15, p=2, weights=uniform;, score=0.921 total time=   0.0s\n",
      "[CV 4/5] END algorithm=ball_tree, n_neighbors=15, p=2, weights=uniform;, score=0.893 total time=   0.0s\n",
      "[CV 5/5] END algorithm=ball_tree, n_neighbors=15, p=2, weights=uniform;, score=0.864 total time=   0.0s\n",
      "[CV 1/5] END algorithm=ball_tree, n_neighbors=15, p=2, weights=distance;, score=0.907 total time=   0.0s\n",
      "[CV 2/5] END algorithm=ball_tree, n_neighbors=15, p=2, weights=distance;, score=0.943 total time=   0.0s\n",
      "[CV 3/5] END algorithm=ball_tree, n_neighbors=15, p=2, weights=distance;, score=0.914 total time=   0.0s\n",
      "[CV 4/5] END algorithm=ball_tree, n_neighbors=15, p=2, weights=distance;, score=0.907 total time=   0.0s\n",
      "[CV 5/5] END algorithm=ball_tree, n_neighbors=15, p=2, weights=distance;, score=0.879 total time=   0.0s\n",
      "[CV 1/5] END algorithm=ball_tree, n_neighbors=20, p=1, weights=uniform;, score=0.893 total time=   0.0s\n",
      "[CV 2/5] END algorithm=ball_tree, n_neighbors=20, p=1, weights=uniform;, score=0.900 total time=   0.0s\n",
      "[CV 3/5] END algorithm=ball_tree, n_neighbors=20, p=1, weights=uniform;, score=0.921 total time=   0.0s\n",
      "[CV 4/5] END algorithm=ball_tree, n_neighbors=20, p=1, weights=uniform;, score=0.879 total time=   0.0s\n",
      "[CV 5/5] END algorithm=ball_tree, n_neighbors=20, p=1, weights=uniform;, score=0.850 total time=   0.0s\n",
      "[CV 1/5] END algorithm=ball_tree, n_neighbors=20, p=1, weights=distance;, score=0.893 total time=   0.0s\n",
      "[CV 2/5] END algorithm=ball_tree, n_neighbors=20, p=1, weights=distance;, score=0.943 total time=   0.0s\n",
      "[CV 3/5] END algorithm=ball_tree, n_neighbors=20, p=1, weights=distance;, score=0.921 total time=   0.0s\n",
      "[CV 4/5] END algorithm=ball_tree, n_neighbors=20, p=1, weights=distance;, score=0.893 total time=   0.0s\n",
      "[CV 5/5] END algorithm=ball_tree, n_neighbors=20, p=1, weights=distance;, score=0.864 total time=   0.0s\n",
      "[CV 1/5] END algorithm=ball_tree, n_neighbors=20, p=2, weights=uniform;, score=0.907 total time=   0.0s\n",
      "[CV 2/5] END algorithm=ball_tree, n_neighbors=20, p=2, weights=uniform;, score=0.907 total time=   0.0s\n",
      "[CV 3/5] END algorithm=ball_tree, n_neighbors=20, p=2, weights=uniform;, score=0.929 total time=   0.0s\n",
      "[CV 4/5] END algorithm=ball_tree, n_neighbors=20, p=2, weights=uniform;, score=0.886 total time=   0.0s\n",
      "[CV 5/5] END algorithm=ball_tree, n_neighbors=20, p=2, weights=uniform;, score=0.857 total time=   0.0s\n",
      "[CV 1/5] END algorithm=ball_tree, n_neighbors=20, p=2, weights=distance;, score=0.893 total time=   0.0s\n",
      "[CV 2/5] END algorithm=ball_tree, n_neighbors=20, p=2, weights=distance;, score=0.943 total time=   0.0s\n",
      "[CV 3/5] END algorithm=ball_tree, n_neighbors=20, p=2, weights=distance;, score=0.907 total time=   0.0s\n",
      "[CV 4/5] END algorithm=ball_tree, n_neighbors=20, p=2, weights=distance;, score=0.900 total time=   0.0s\n",
      "[CV 5/5] END algorithm=ball_tree, n_neighbors=20, p=2, weights=distance;, score=0.871 total time=   0.0s\n",
      "[CV 1/5] END algorithm=ball_tree, n_neighbors=25, p=1, weights=uniform;, score=0.900 total time=   0.0s\n",
      "[CV 2/5] END algorithm=ball_tree, n_neighbors=25, p=1, weights=uniform;, score=0.893 total time=   0.0s\n"
     ]
    },
    {
     "name": "stdout",
     "output_type": "stream",
     "text": [
      "[CV 3/5] END algorithm=ball_tree, n_neighbors=25, p=1, weights=uniform;, score=0.921 total time=   0.0s\n",
      "[CV 4/5] END algorithm=ball_tree, n_neighbors=25, p=1, weights=uniform;, score=0.893 total time=   0.0s\n",
      "[CV 5/5] END algorithm=ball_tree, n_neighbors=25, p=1, weights=uniform;, score=0.864 total time=   0.0s\n",
      "[CV 1/5] END algorithm=ball_tree, n_neighbors=25, p=1, weights=distance;, score=0.886 total time=   0.0s\n",
      "[CV 2/5] END algorithm=ball_tree, n_neighbors=25, p=1, weights=distance;, score=0.936 total time=   0.0s\n",
      "[CV 3/5] END algorithm=ball_tree, n_neighbors=25, p=1, weights=distance;, score=0.921 total time=   0.0s\n",
      "[CV 4/5] END algorithm=ball_tree, n_neighbors=25, p=1, weights=distance;, score=0.893 total time=   0.0s\n",
      "[CV 5/5] END algorithm=ball_tree, n_neighbors=25, p=1, weights=distance;, score=0.864 total time=   0.0s\n",
      "[CV 1/5] END algorithm=ball_tree, n_neighbors=25, p=2, weights=uniform;, score=0.893 total time=   0.0s\n",
      "[CV 2/5] END algorithm=ball_tree, n_neighbors=25, p=2, weights=uniform;, score=0.907 total time=   0.0s\n",
      "[CV 3/5] END algorithm=ball_tree, n_neighbors=25, p=2, weights=uniform;, score=0.929 total time=   0.0s\n",
      "[CV 4/5] END algorithm=ball_tree, n_neighbors=25, p=2, weights=uniform;, score=0.871 total time=   0.0s\n",
      "[CV 5/5] END algorithm=ball_tree, n_neighbors=25, p=2, weights=uniform;, score=0.857 total time=   0.0s\n",
      "[CV 1/5] END algorithm=ball_tree, n_neighbors=25, p=2, weights=distance;, score=0.893 total time=   0.0s\n",
      "[CV 2/5] END algorithm=ball_tree, n_neighbors=25, p=2, weights=distance;, score=0.936 total time=   0.0s\n",
      "[CV 3/5] END algorithm=ball_tree, n_neighbors=25, p=2, weights=distance;, score=0.921 total time=   0.0s\n",
      "[CV 4/5] END algorithm=ball_tree, n_neighbors=25, p=2, weights=distance;, score=0.900 total time=   0.0s\n",
      "[CV 5/5] END algorithm=ball_tree, n_neighbors=25, p=2, weights=distance;, score=0.864 total time=   0.0s\n",
      "[CV 1/5] END algorithm=kd_tree, n_neighbors=5, p=1, weights=uniform;, score=0.886 total time=   0.0s\n",
      "[CV 2/5] END algorithm=kd_tree, n_neighbors=5, p=1, weights=uniform;, score=0.936 total time=   0.0s\n",
      "[CV 3/5] END algorithm=kd_tree, n_neighbors=5, p=1, weights=uniform;, score=0.936 total time=   0.0s\n",
      "[CV 4/5] END algorithm=kd_tree, n_neighbors=5, p=1, weights=uniform;, score=0.907 total time=   0.0s\n",
      "[CV 5/5] END algorithm=kd_tree, n_neighbors=5, p=1, weights=uniform;, score=0.886 total time=   0.0s\n",
      "[CV 1/5] END algorithm=kd_tree, n_neighbors=5, p=1, weights=distance;, score=0.886 total time=   0.0s\n",
      "[CV 2/5] END algorithm=kd_tree, n_neighbors=5, p=1, weights=distance;, score=0.929 total time=   0.0s\n",
      "[CV 3/5] END algorithm=kd_tree, n_neighbors=5, p=1, weights=distance;, score=0.929 total time=   0.0s\n",
      "[CV 4/5] END algorithm=kd_tree, n_neighbors=5, p=1, weights=distance;, score=0.886 total time=   0.0s\n",
      "[CV 5/5] END algorithm=kd_tree, n_neighbors=5, p=1, weights=distance;, score=0.879 total time=   0.0s\n",
      "[CV 1/5] END algorithm=kd_tree, n_neighbors=5, p=2, weights=uniform;, score=0.907 total time=   0.0s\n",
      "[CV 2/5] END algorithm=kd_tree, n_neighbors=5, p=2, weights=uniform;, score=0.936 total time=   0.0s\n",
      "[CV 3/5] END algorithm=kd_tree, n_neighbors=5, p=2, weights=uniform;, score=0.936 total time=   0.0s\n",
      "[CV 4/5] END algorithm=kd_tree, n_neighbors=5, p=2, weights=uniform;, score=0.907 total time=   0.0s\n",
      "[CV 5/5] END algorithm=kd_tree, n_neighbors=5, p=2, weights=uniform;, score=0.879 total time=   0.0s\n",
      "[CV 1/5] END algorithm=kd_tree, n_neighbors=5, p=2, weights=distance;, score=0.893 total time=   0.0s\n",
      "[CV 2/5] END algorithm=kd_tree, n_neighbors=5, p=2, weights=distance;, score=0.929 total time=   0.0s\n",
      "[CV 3/5] END algorithm=kd_tree, n_neighbors=5, p=2, weights=distance;, score=0.929 total time=   0.0s\n",
      "[CV 4/5] END algorithm=kd_tree, n_neighbors=5, p=2, weights=distance;, score=0.900 total time=   0.0s\n",
      "[CV 5/5] END algorithm=kd_tree, n_neighbors=5, p=2, weights=distance;, score=0.886 total time=   0.0s\n",
      "[CV 1/5] END algorithm=kd_tree, n_neighbors=10, p=1, weights=uniform;, score=0.921 total time=   0.0s\n",
      "[CV 2/5] END algorithm=kd_tree, n_neighbors=10, p=1, weights=uniform;, score=0.914 total time=   0.0s\n",
      "[CV 3/5] END algorithm=kd_tree, n_neighbors=10, p=1, weights=uniform;, score=0.943 total time=   0.0s\n",
      "[CV 4/5] END algorithm=kd_tree, n_neighbors=10, p=1, weights=uniform;, score=0.914 total time=   0.0s\n",
      "[CV 5/5] END algorithm=kd_tree, n_neighbors=10, p=1, weights=uniform;, score=0.850 total time=   0.0s\n",
      "[CV 1/5] END algorithm=kd_tree, n_neighbors=10, p=1, weights=distance;, score=0.900 total time=   0.0s\n",
      "[CV 2/5] END algorithm=kd_tree, n_neighbors=10, p=1, weights=distance;, score=0.943 total time=   0.0s\n",
      "[CV 3/5] END algorithm=kd_tree, n_neighbors=10, p=1, weights=distance;, score=0.929 total time=   0.0s\n",
      "[CV 4/5] END algorithm=kd_tree, n_neighbors=10, p=1, weights=distance;, score=0.907 total time=   0.0s\n",
      "[CV 5/5] END algorithm=kd_tree, n_neighbors=10, p=1, weights=distance;, score=0.879 total time=   0.0s\n",
      "[CV 1/5] END algorithm=kd_tree, n_neighbors=10, p=2, weights=uniform;, score=0.914 total time=   0.0s\n",
      "[CV 2/5] END algorithm=kd_tree, n_neighbors=10, p=2, weights=uniform;, score=0.929 total time=   0.0s\n",
      "[CV 3/5] END algorithm=kd_tree, n_neighbors=10, p=2, weights=uniform;, score=0.936 total time=   0.0s\n",
      "[CV 4/5] END algorithm=kd_tree, n_neighbors=10, p=2, weights=uniform;, score=0.914 total time=   0.0s\n",
      "[CV 5/5] END algorithm=kd_tree, n_neighbors=10, p=2, weights=uniform;, score=0.864 total time=   0.0s\n",
      "[CV 1/5] END algorithm=kd_tree, n_neighbors=10, p=2, weights=distance;, score=0.900 total time=   0.0s\n",
      "[CV 2/5] END algorithm=kd_tree, n_neighbors=10, p=2, weights=distance;, score=0.936 total time=   0.0s\n",
      "[CV 3/5] END algorithm=kd_tree, n_neighbors=10, p=2, weights=distance;, score=0.929 total time=   0.0s\n",
      "[CV 4/5] END algorithm=kd_tree, n_neighbors=10, p=2, weights=distance;, score=0.914 total time=   0.0s\n",
      "[CV 5/5] END algorithm=kd_tree, n_neighbors=10, p=2, weights=distance;, score=0.879 total time=   0.0s\n",
      "[CV 1/5] END algorithm=kd_tree, n_neighbors=15, p=1, weights=uniform;, score=0.900 total time=   0.0s\n",
      "[CV 2/5] END algorithm=kd_tree, n_neighbors=15, p=1, weights=uniform;, score=0.914 total time=   0.0s\n",
      "[CV 3/5] END algorithm=kd_tree, n_neighbors=15, p=1, weights=uniform;, score=0.936 total time=   0.0s\n",
      "[CV 4/5] END algorithm=kd_tree, n_neighbors=15, p=1, weights=uniform;, score=0.900 total time=   0.0s\n",
      "[CV 5/5] END algorithm=kd_tree, n_neighbors=15, p=1, weights=uniform;, score=0.857 total time=   0.0s\n",
      "[CV 1/5] END algorithm=kd_tree, n_neighbors=15, p=1, weights=distance;, score=0.907 total time=   0.0s\n",
      "[CV 2/5] END algorithm=kd_tree, n_neighbors=15, p=1, weights=distance;, score=0.943 total time=   0.0s\n",
      "[CV 3/5] END algorithm=kd_tree, n_neighbors=15, p=1, weights=distance;, score=0.929 total time=   0.0s\n",
      "[CV 4/5] END algorithm=kd_tree, n_neighbors=15, p=1, weights=distance;, score=0.907 total time=   0.0s\n",
      "[CV 5/5] END algorithm=kd_tree, n_neighbors=15, p=1, weights=distance;, score=0.886 total time=   0.0s\n",
      "[CV 1/5] END algorithm=kd_tree, n_neighbors=15, p=2, weights=uniform;, score=0.907 total time=   0.0s\n",
      "[CV 2/5] END algorithm=kd_tree, n_neighbors=15, p=2, weights=uniform;, score=0.914 total time=   0.0s\n",
      "[CV 3/5] END algorithm=kd_tree, n_neighbors=15, p=2, weights=uniform;, score=0.921 total time=   0.0s\n",
      "[CV 4/5] END algorithm=kd_tree, n_neighbors=15, p=2, weights=uniform;, score=0.893 total time=   0.0s\n",
      "[CV 5/5] END algorithm=kd_tree, n_neighbors=15, p=2, weights=uniform;, score=0.864 total time=   0.0s\n",
      "[CV 1/5] END algorithm=kd_tree, n_neighbors=15, p=2, weights=distance;, score=0.907 total time=   0.0s\n",
      "[CV 2/5] END algorithm=kd_tree, n_neighbors=15, p=2, weights=distance;, score=0.943 total time=   0.0s\n",
      "[CV 3/5] END algorithm=kd_tree, n_neighbors=15, p=2, weights=distance;, score=0.914 total time=   0.0s\n",
      "[CV 4/5] END algorithm=kd_tree, n_neighbors=15, p=2, weights=distance;, score=0.907 total time=   0.0s\n",
      "[CV 5/5] END algorithm=kd_tree, n_neighbors=15, p=2, weights=distance;, score=0.879 total time=   0.0s\n",
      "[CV 1/5] END algorithm=kd_tree, n_neighbors=20, p=1, weights=uniform;, score=0.893 total time=   0.0s\n",
      "[CV 2/5] END algorithm=kd_tree, n_neighbors=20, p=1, weights=uniform;, score=0.900 total time=   0.0s\n",
      "[CV 3/5] END algorithm=kd_tree, n_neighbors=20, p=1, weights=uniform;, score=0.921 total time=   0.0s\n",
      "[CV 4/5] END algorithm=kd_tree, n_neighbors=20, p=1, weights=uniform;, score=0.879 total time=   0.0s\n",
      "[CV 5/5] END algorithm=kd_tree, n_neighbors=20, p=1, weights=uniform;, score=0.850 total time=   0.0s\n",
      "[CV 1/5] END algorithm=kd_tree, n_neighbors=20, p=1, weights=distance;, score=0.893 total time=   0.0s\n"
     ]
    },
    {
     "name": "stdout",
     "output_type": "stream",
     "text": [
      "[CV 2/5] END algorithm=kd_tree, n_neighbors=20, p=1, weights=distance;, score=0.943 total time=   0.0s\n",
      "[CV 3/5] END algorithm=kd_tree, n_neighbors=20, p=1, weights=distance;, score=0.921 total time=   0.0s\n",
      "[CV 4/5] END algorithm=kd_tree, n_neighbors=20, p=1, weights=distance;, score=0.893 total time=   0.0s\n",
      "[CV 5/5] END algorithm=kd_tree, n_neighbors=20, p=1, weights=distance;, score=0.864 total time=   0.0s\n",
      "[CV 1/5] END algorithm=kd_tree, n_neighbors=20, p=2, weights=uniform;, score=0.907 total time=   0.0s\n",
      "[CV 2/5] END algorithm=kd_tree, n_neighbors=20, p=2, weights=uniform;, score=0.907 total time=   0.0s\n",
      "[CV 3/5] END algorithm=kd_tree, n_neighbors=20, p=2, weights=uniform;, score=0.929 total time=   0.0s\n",
      "[CV 4/5] END algorithm=kd_tree, n_neighbors=20, p=2, weights=uniform;, score=0.886 total time=   0.0s\n",
      "[CV 5/5] END algorithm=kd_tree, n_neighbors=20, p=2, weights=uniform;, score=0.857 total time=   0.0s\n",
      "[CV 1/5] END algorithm=kd_tree, n_neighbors=20, p=2, weights=distance;, score=0.893 total time=   0.0s\n",
      "[CV 2/5] END algorithm=kd_tree, n_neighbors=20, p=2, weights=distance;, score=0.943 total time=   0.0s\n",
      "[CV 3/5] END algorithm=kd_tree, n_neighbors=20, p=2, weights=distance;, score=0.907 total time=   0.0s\n",
      "[CV 4/5] END algorithm=kd_tree, n_neighbors=20, p=2, weights=distance;, score=0.900 total time=   0.0s\n",
      "[CV 5/5] END algorithm=kd_tree, n_neighbors=20, p=2, weights=distance;, score=0.871 total time=   0.0s\n",
      "[CV 1/5] END algorithm=kd_tree, n_neighbors=25, p=1, weights=uniform;, score=0.900 total time=   0.0s\n",
      "[CV 2/5] END algorithm=kd_tree, n_neighbors=25, p=1, weights=uniform;, score=0.893 total time=   0.0s\n",
      "[CV 3/5] END algorithm=kd_tree, n_neighbors=25, p=1, weights=uniform;, score=0.921 total time=   0.0s\n",
      "[CV 4/5] END algorithm=kd_tree, n_neighbors=25, p=1, weights=uniform;, score=0.893 total time=   0.0s\n",
      "[CV 5/5] END algorithm=kd_tree, n_neighbors=25, p=1, weights=uniform;, score=0.864 total time=   0.0s\n",
      "[CV 1/5] END algorithm=kd_tree, n_neighbors=25, p=1, weights=distance;, score=0.886 total time=   0.0s\n",
      "[CV 2/5] END algorithm=kd_tree, n_neighbors=25, p=1, weights=distance;, score=0.936 total time=   0.0s\n",
      "[CV 3/5] END algorithm=kd_tree, n_neighbors=25, p=1, weights=distance;, score=0.921 total time=   0.0s\n",
      "[CV 4/5] END algorithm=kd_tree, n_neighbors=25, p=1, weights=distance;, score=0.893 total time=   0.0s\n",
      "[CV 5/5] END algorithm=kd_tree, n_neighbors=25, p=1, weights=distance;, score=0.864 total time=   0.0s\n",
      "[CV 1/5] END algorithm=kd_tree, n_neighbors=25, p=2, weights=uniform;, score=0.893 total time=   0.0s\n",
      "[CV 2/5] END algorithm=kd_tree, n_neighbors=25, p=2, weights=uniform;, score=0.907 total time=   0.0s\n",
      "[CV 3/5] END algorithm=kd_tree, n_neighbors=25, p=2, weights=uniform;, score=0.929 total time=   0.0s\n",
      "[CV 4/5] END algorithm=kd_tree, n_neighbors=25, p=2, weights=uniform;, score=0.871 total time=   0.0s\n",
      "[CV 5/5] END algorithm=kd_tree, n_neighbors=25, p=2, weights=uniform;, score=0.857 total time=   0.0s\n",
      "[CV 1/5] END algorithm=kd_tree, n_neighbors=25, p=2, weights=distance;, score=0.893 total time=   0.0s\n",
      "[CV 2/5] END algorithm=kd_tree, n_neighbors=25, p=2, weights=distance;, score=0.936 total time=   0.0s\n",
      "[CV 3/5] END algorithm=kd_tree, n_neighbors=25, p=2, weights=distance;, score=0.921 total time=   0.0s\n",
      "[CV 4/5] END algorithm=kd_tree, n_neighbors=25, p=2, weights=distance;, score=0.900 total time=   0.0s\n",
      "[CV 5/5] END algorithm=kd_tree, n_neighbors=25, p=2, weights=distance;, score=0.864 total time=   0.0s\n",
      "[CV 1/5] END algorithm=brute, n_neighbors=5, p=1, weights=uniform;, score=0.886 total time=   0.0s\n",
      "[CV 2/5] END algorithm=brute, n_neighbors=5, p=1, weights=uniform;, score=0.936 total time=   0.0s\n",
      "[CV 3/5] END algorithm=brute, n_neighbors=5, p=1, weights=uniform;, score=0.936 total time=   0.0s\n",
      "[CV 4/5] END algorithm=brute, n_neighbors=5, p=1, weights=uniform;, score=0.907 total time=   0.0s\n",
      "[CV 5/5] END algorithm=brute, n_neighbors=5, p=1, weights=uniform;, score=0.886 total time=   0.0s\n",
      "[CV 1/5] END algorithm=brute, n_neighbors=5, p=1, weights=distance;, score=0.886 total time=   0.0s\n",
      "[CV 2/5] END algorithm=brute, n_neighbors=5, p=1, weights=distance;, score=0.929 total time=   0.0s\n",
      "[CV 3/5] END algorithm=brute, n_neighbors=5, p=1, weights=distance;, score=0.929 total time=   0.0s\n",
      "[CV 4/5] END algorithm=brute, n_neighbors=5, p=1, weights=distance;, score=0.886 total time=   0.0s\n",
      "[CV 5/5] END algorithm=brute, n_neighbors=5, p=1, weights=distance;, score=0.879 total time=   0.0s\n",
      "[CV 1/5] END algorithm=brute, n_neighbors=5, p=2, weights=uniform;, score=0.907 total time=   0.0s\n",
      "[CV 2/5] END algorithm=brute, n_neighbors=5, p=2, weights=uniform;, score=0.936 total time=   0.0s\n",
      "[CV 3/5] END algorithm=brute, n_neighbors=5, p=2, weights=uniform;, score=0.936 total time=   0.0s\n",
      "[CV 4/5] END algorithm=brute, n_neighbors=5, p=2, weights=uniform;, score=0.907 total time=   0.0s\n",
      "[CV 5/5] END algorithm=brute, n_neighbors=5, p=2, weights=uniform;, score=0.879 total time=   0.0s\n",
      "[CV 1/5] END algorithm=brute, n_neighbors=5, p=2, weights=distance;, score=0.893 total time=   0.0s\n",
      "[CV 2/5] END algorithm=brute, n_neighbors=5, p=2, weights=distance;, score=0.929 total time=   0.0s\n",
      "[CV 3/5] END algorithm=brute, n_neighbors=5, p=2, weights=distance;, score=0.929 total time=   0.0s\n",
      "[CV 4/5] END algorithm=brute, n_neighbors=5, p=2, weights=distance;, score=0.900 total time=   0.0s\n",
      "[CV 5/5] END algorithm=brute, n_neighbors=5, p=2, weights=distance;, score=0.886 total time=   0.0s\n",
      "[CV 1/5] END algorithm=brute, n_neighbors=10, p=1, weights=uniform;, score=0.921 total time=   0.0s\n",
      "[CV 2/5] END algorithm=brute, n_neighbors=10, p=1, weights=uniform;, score=0.914 total time=   0.0s\n",
      "[CV 3/5] END algorithm=brute, n_neighbors=10, p=1, weights=uniform;, score=0.943 total time=   0.0s\n",
      "[CV 4/5] END algorithm=brute, n_neighbors=10, p=1, weights=uniform;, score=0.914 total time=   0.0s\n",
      "[CV 5/5] END algorithm=brute, n_neighbors=10, p=1, weights=uniform;, score=0.850 total time=   0.0s\n",
      "[CV 1/5] END algorithm=brute, n_neighbors=10, p=1, weights=distance;, score=0.900 total time=   0.0s\n",
      "[CV 2/5] END algorithm=brute, n_neighbors=10, p=1, weights=distance;, score=0.943 total time=   0.0s\n",
      "[CV 3/5] END algorithm=brute, n_neighbors=10, p=1, weights=distance;, score=0.929 total time=   0.0s\n",
      "[CV 4/5] END algorithm=brute, n_neighbors=10, p=1, weights=distance;, score=0.907 total time=   0.0s\n",
      "[CV 5/5] END algorithm=brute, n_neighbors=10, p=1, weights=distance;, score=0.879 total time=   0.0s\n",
      "[CV 1/5] END algorithm=brute, n_neighbors=10, p=2, weights=uniform;, score=0.914 total time=   0.0s\n",
      "[CV 2/5] END algorithm=brute, n_neighbors=10, p=2, weights=uniform;, score=0.929 total time=   0.0s\n",
      "[CV 3/5] END algorithm=brute, n_neighbors=10, p=2, weights=uniform;, score=0.936 total time=   0.0s\n",
      "[CV 4/5] END algorithm=brute, n_neighbors=10, p=2, weights=uniform;, score=0.914 total time=   0.0s\n",
      "[CV 5/5] END algorithm=brute, n_neighbors=10, p=2, weights=uniform;, score=0.864 total time=   0.0s\n",
      "[CV 1/5] END algorithm=brute, n_neighbors=10, p=2, weights=distance;, score=0.900 total time=   0.0s\n",
      "[CV 2/5] END algorithm=brute, n_neighbors=10, p=2, weights=distance;, score=0.936 total time=   0.0s\n",
      "[CV 3/5] END algorithm=brute, n_neighbors=10, p=2, weights=distance;, score=0.929 total time=   0.0s\n",
      "[CV 4/5] END algorithm=brute, n_neighbors=10, p=2, weights=distance;, score=0.914 total time=   0.0s\n",
      "[CV 5/5] END algorithm=brute, n_neighbors=10, p=2, weights=distance;, score=0.879 total time=   0.0s\n",
      "[CV 1/5] END algorithm=brute, n_neighbors=15, p=1, weights=uniform;, score=0.900 total time=   0.0s\n",
      "[CV 2/5] END algorithm=brute, n_neighbors=15, p=1, weights=uniform;, score=0.914 total time=   0.0s\n",
      "[CV 3/5] END algorithm=brute, n_neighbors=15, p=1, weights=uniform;, score=0.936 total time=   0.0s\n",
      "[CV 4/5] END algorithm=brute, n_neighbors=15, p=1, weights=uniform;, score=0.900 total time=   0.0s\n",
      "[CV 5/5] END algorithm=brute, n_neighbors=15, p=1, weights=uniform;, score=0.857 total time=   0.0s\n",
      "[CV 1/5] END algorithm=brute, n_neighbors=15, p=1, weights=distance;, score=0.907 total time=   0.0s\n",
      "[CV 2/5] END algorithm=brute, n_neighbors=15, p=1, weights=distance;, score=0.943 total time=   0.0s\n",
      "[CV 3/5] END algorithm=brute, n_neighbors=15, p=1, weights=distance;, score=0.929 total time=   0.0s\n"
     ]
    },
    {
     "name": "stdout",
     "output_type": "stream",
     "text": [
      "[CV 4/5] END algorithm=brute, n_neighbors=15, p=1, weights=distance;, score=0.907 total time=   0.0s\n",
      "[CV 5/5] END algorithm=brute, n_neighbors=15, p=1, weights=distance;, score=0.886 total time=   0.0s\n",
      "[CV 1/5] END algorithm=brute, n_neighbors=15, p=2, weights=uniform;, score=0.907 total time=   0.0s\n",
      "[CV 2/5] END algorithm=brute, n_neighbors=15, p=2, weights=uniform;, score=0.914 total time=   0.0s\n",
      "[CV 3/5] END algorithm=brute, n_neighbors=15, p=2, weights=uniform;, score=0.921 total time=   0.0s\n",
      "[CV 4/5] END algorithm=brute, n_neighbors=15, p=2, weights=uniform;, score=0.893 total time=   0.0s\n",
      "[CV 5/5] END algorithm=brute, n_neighbors=15, p=2, weights=uniform;, score=0.864 total time=   0.0s\n",
      "[CV 1/5] END algorithm=brute, n_neighbors=15, p=2, weights=distance;, score=0.907 total time=   0.0s\n",
      "[CV 2/5] END algorithm=brute, n_neighbors=15, p=2, weights=distance;, score=0.943 total time=   0.0s\n",
      "[CV 3/5] END algorithm=brute, n_neighbors=15, p=2, weights=distance;, score=0.914 total time=   0.0s\n",
      "[CV 4/5] END algorithm=brute, n_neighbors=15, p=2, weights=distance;, score=0.907 total time=   0.0s\n",
      "[CV 5/5] END algorithm=brute, n_neighbors=15, p=2, weights=distance;, score=0.879 total time=   0.0s\n",
      "[CV 1/5] END algorithm=brute, n_neighbors=20, p=1, weights=uniform;, score=0.893 total time=   0.0s\n",
      "[CV 2/5] END algorithm=brute, n_neighbors=20, p=1, weights=uniform;, score=0.900 total time=   0.0s\n",
      "[CV 3/5] END algorithm=brute, n_neighbors=20, p=1, weights=uniform;, score=0.921 total time=   0.0s\n",
      "[CV 4/5] END algorithm=brute, n_neighbors=20, p=1, weights=uniform;, score=0.879 total time=   0.0s\n",
      "[CV 5/5] END algorithm=brute, n_neighbors=20, p=1, weights=uniform;, score=0.850 total time=   0.0s\n",
      "[CV 1/5] END algorithm=brute, n_neighbors=20, p=1, weights=distance;, score=0.893 total time=   0.0s\n",
      "[CV 2/5] END algorithm=brute, n_neighbors=20, p=1, weights=distance;, score=0.943 total time=   0.0s\n",
      "[CV 3/5] END algorithm=brute, n_neighbors=20, p=1, weights=distance;, score=0.921 total time=   0.0s\n",
      "[CV 4/5] END algorithm=brute, n_neighbors=20, p=1, weights=distance;, score=0.893 total time=   0.0s\n",
      "[CV 5/5] END algorithm=brute, n_neighbors=20, p=1, weights=distance;, score=0.864 total time=   0.0s\n",
      "[CV 1/5] END algorithm=brute, n_neighbors=20, p=2, weights=uniform;, score=0.907 total time=   0.0s\n",
      "[CV 2/5] END algorithm=brute, n_neighbors=20, p=2, weights=uniform;, score=0.907 total time=   0.0s\n",
      "[CV 3/5] END algorithm=brute, n_neighbors=20, p=2, weights=uniform;, score=0.929 total time=   0.0s\n",
      "[CV 4/5] END algorithm=brute, n_neighbors=20, p=2, weights=uniform;, score=0.886 total time=   0.0s\n",
      "[CV 5/5] END algorithm=brute, n_neighbors=20, p=2, weights=uniform;, score=0.857 total time=   0.0s\n",
      "[CV 1/5] END algorithm=brute, n_neighbors=20, p=2, weights=distance;, score=0.893 total time=   0.0s\n",
      "[CV 2/5] END algorithm=brute, n_neighbors=20, p=2, weights=distance;, score=0.943 total time=   0.0s\n",
      "[CV 3/5] END algorithm=brute, n_neighbors=20, p=2, weights=distance;, score=0.907 total time=   0.0s\n",
      "[CV 4/5] END algorithm=brute, n_neighbors=20, p=2, weights=distance;, score=0.900 total time=   0.0s\n",
      "[CV 5/5] END algorithm=brute, n_neighbors=20, p=2, weights=distance;, score=0.871 total time=   0.0s\n",
      "[CV 1/5] END algorithm=brute, n_neighbors=25, p=1, weights=uniform;, score=0.900 total time=   0.0s\n",
      "[CV 2/5] END algorithm=brute, n_neighbors=25, p=1, weights=uniform;, score=0.893 total time=   0.0s\n",
      "[CV 3/5] END algorithm=brute, n_neighbors=25, p=1, weights=uniform;, score=0.921 total time=   0.0s\n",
      "[CV 4/5] END algorithm=brute, n_neighbors=25, p=1, weights=uniform;, score=0.893 total time=   0.0s\n",
      "[CV 5/5] END algorithm=brute, n_neighbors=25, p=1, weights=uniform;, score=0.864 total time=   0.0s\n",
      "[CV 1/5] END algorithm=brute, n_neighbors=25, p=1, weights=distance;, score=0.886 total time=   0.0s\n",
      "[CV 2/5] END algorithm=brute, n_neighbors=25, p=1, weights=distance;, score=0.936 total time=   0.0s\n",
      "[CV 3/5] END algorithm=brute, n_neighbors=25, p=1, weights=distance;, score=0.921 total time=   0.0s\n",
      "[CV 4/5] END algorithm=brute, n_neighbors=25, p=1, weights=distance;, score=0.893 total time=   0.0s\n",
      "[CV 5/5] END algorithm=brute, n_neighbors=25, p=1, weights=distance;, score=0.864 total time=   0.0s\n",
      "[CV 1/5] END algorithm=brute, n_neighbors=25, p=2, weights=uniform;, score=0.893 total time=   0.0s\n",
      "[CV 2/5] END algorithm=brute, n_neighbors=25, p=2, weights=uniform;, score=0.907 total time=   0.0s\n",
      "[CV 3/5] END algorithm=brute, n_neighbors=25, p=2, weights=uniform;, score=0.929 total time=   0.0s\n",
      "[CV 4/5] END algorithm=brute, n_neighbors=25, p=2, weights=uniform;, score=0.871 total time=   0.0s\n",
      "[CV 5/5] END algorithm=brute, n_neighbors=25, p=2, weights=uniform;, score=0.857 total time=   0.0s\n",
      "[CV 1/5] END algorithm=brute, n_neighbors=25, p=2, weights=distance;, score=0.893 total time=   0.0s\n",
      "[CV 2/5] END algorithm=brute, n_neighbors=25, p=2, weights=distance;, score=0.936 total time=   0.0s\n",
      "[CV 3/5] END algorithm=brute, n_neighbors=25, p=2, weights=distance;, score=0.921 total time=   0.0s\n",
      "[CV 4/5] END algorithm=brute, n_neighbors=25, p=2, weights=distance;, score=0.900 total time=   0.0s\n",
      "[CV 5/5] END algorithm=brute, n_neighbors=25, p=2, weights=distance;, score=0.864 total time=   0.0s\n"
     ]
    },
    {
     "data": {
      "text/html": [
       "<style>#sk-container-id-3 {color: black;}#sk-container-id-3 pre{padding: 0;}#sk-container-id-3 div.sk-toggleable {background-color: white;}#sk-container-id-3 label.sk-toggleable__label {cursor: pointer;display: block;width: 100%;margin-bottom: 0;padding: 0.3em;box-sizing: border-box;text-align: center;}#sk-container-id-3 label.sk-toggleable__label-arrow:before {content: \"▸\";float: left;margin-right: 0.25em;color: #696969;}#sk-container-id-3 label.sk-toggleable__label-arrow:hover:before {color: black;}#sk-container-id-3 div.sk-estimator:hover label.sk-toggleable__label-arrow:before {color: black;}#sk-container-id-3 div.sk-toggleable__content {max-height: 0;max-width: 0;overflow: hidden;text-align: left;background-color: #f0f8ff;}#sk-container-id-3 div.sk-toggleable__content pre {margin: 0.2em;color: black;border-radius: 0.25em;background-color: #f0f8ff;}#sk-container-id-3 input.sk-toggleable__control:checked~div.sk-toggleable__content {max-height: 200px;max-width: 100%;overflow: auto;}#sk-container-id-3 input.sk-toggleable__control:checked~label.sk-toggleable__label-arrow:before {content: \"▾\";}#sk-container-id-3 div.sk-estimator input.sk-toggleable__control:checked~label.sk-toggleable__label {background-color: #d4ebff;}#sk-container-id-3 div.sk-label input.sk-toggleable__control:checked~label.sk-toggleable__label {background-color: #d4ebff;}#sk-container-id-3 input.sk-hidden--visually {border: 0;clip: rect(1px 1px 1px 1px);clip: rect(1px, 1px, 1px, 1px);height: 1px;margin: -1px;overflow: hidden;padding: 0;position: absolute;width: 1px;}#sk-container-id-3 div.sk-estimator {font-family: monospace;background-color: #f0f8ff;border: 1px dotted black;border-radius: 0.25em;box-sizing: border-box;margin-bottom: 0.5em;}#sk-container-id-3 div.sk-estimator:hover {background-color: #d4ebff;}#sk-container-id-3 div.sk-parallel-item::after {content: \"\";width: 100%;border-bottom: 1px solid gray;flex-grow: 1;}#sk-container-id-3 div.sk-label:hover label.sk-toggleable__label {background-color: #d4ebff;}#sk-container-id-3 div.sk-serial::before {content: \"\";position: absolute;border-left: 1px solid gray;box-sizing: border-box;top: 0;bottom: 0;left: 50%;z-index: 0;}#sk-container-id-3 div.sk-serial {display: flex;flex-direction: column;align-items: center;background-color: white;padding-right: 0.2em;padding-left: 0.2em;position: relative;}#sk-container-id-3 div.sk-item {position: relative;z-index: 1;}#sk-container-id-3 div.sk-parallel {display: flex;align-items: stretch;justify-content: center;background-color: white;position: relative;}#sk-container-id-3 div.sk-item::before, #sk-container-id-3 div.sk-parallel-item::before {content: \"\";position: absolute;border-left: 1px solid gray;box-sizing: border-box;top: 0;bottom: 0;left: 50%;z-index: -1;}#sk-container-id-3 div.sk-parallel-item {display: flex;flex-direction: column;z-index: 1;position: relative;background-color: white;}#sk-container-id-3 div.sk-parallel-item:first-child::after {align-self: flex-end;width: 50%;}#sk-container-id-3 div.sk-parallel-item:last-child::after {align-self: flex-start;width: 50%;}#sk-container-id-3 div.sk-parallel-item:only-child::after {width: 0;}#sk-container-id-3 div.sk-dashed-wrapped {border: 1px dashed gray;margin: 0 0.4em 0.5em 0.4em;box-sizing: border-box;padding-bottom: 0.4em;background-color: white;}#sk-container-id-3 div.sk-label label {font-family: monospace;font-weight: bold;display: inline-block;line-height: 1.2em;}#sk-container-id-3 div.sk-label-container {text-align: center;}#sk-container-id-3 div.sk-container {/* jupyter's `normalize.less` sets `[hidden] { display: none; }` but bootstrap.min.css set `[hidden] { display: none !important; }` so we also need the `!important` here to be able to override the default hidden behavior on the sphinx rendered scikit-learn.org. See: https://github.com/scikit-learn/scikit-learn/issues/21755 */display: inline-block !important;position: relative;}#sk-container-id-3 div.sk-text-repr-fallback {display: none;}</style><div id=\"sk-container-id-3\" class=\"sk-top-container\"><div class=\"sk-text-repr-fallback\"><pre>GridSearchCV(cv=5, estimator=KNeighborsClassifier(),\n",
       "             param_grid={&#x27;algorithm&#x27;: [&#x27;ball_tree&#x27;, &#x27;kd_tree&#x27;, &#x27;brute&#x27;],\n",
       "                         &#x27;n_neighbors&#x27;: [5, 10, 15, 20, 25], &#x27;p&#x27;: [1, 2],\n",
       "                         &#x27;weights&#x27;: [&#x27;uniform&#x27;, &#x27;distance&#x27;]},\n",
       "             scoring=&#x27;accuracy&#x27;, verbose=3)</pre><b>In a Jupyter environment, please rerun this cell to show the HTML representation or trust the notebook. <br />On GitHub, the HTML representation is unable to render, please try loading this page with nbviewer.org.</b></div><div class=\"sk-container\" hidden><div class=\"sk-item sk-dashed-wrapped\"><div class=\"sk-label-container\"><div class=\"sk-label sk-toggleable\"><input class=\"sk-toggleable__control sk-hidden--visually\" id=\"sk-estimator-id-5\" type=\"checkbox\" ><label for=\"sk-estimator-id-5\" class=\"sk-toggleable__label sk-toggleable__label-arrow\">GridSearchCV</label><div class=\"sk-toggleable__content\"><pre>GridSearchCV(cv=5, estimator=KNeighborsClassifier(),\n",
       "             param_grid={&#x27;algorithm&#x27;: [&#x27;ball_tree&#x27;, &#x27;kd_tree&#x27;, &#x27;brute&#x27;],\n",
       "                         &#x27;n_neighbors&#x27;: [5, 10, 15, 20, 25], &#x27;p&#x27;: [1, 2],\n",
       "                         &#x27;weights&#x27;: [&#x27;uniform&#x27;, &#x27;distance&#x27;]},\n",
       "             scoring=&#x27;accuracy&#x27;, verbose=3)</pre></div></div></div><div class=\"sk-parallel\"><div class=\"sk-parallel-item\"><div class=\"sk-item\"><div class=\"sk-label-container\"><div class=\"sk-label sk-toggleable\"><input class=\"sk-toggleable__control sk-hidden--visually\" id=\"sk-estimator-id-6\" type=\"checkbox\" ><label for=\"sk-estimator-id-6\" class=\"sk-toggleable__label sk-toggleable__label-arrow\">estimator: KNeighborsClassifier</label><div class=\"sk-toggleable__content\"><pre>KNeighborsClassifier()</pre></div></div></div><div class=\"sk-serial\"><div class=\"sk-item\"><div class=\"sk-estimator sk-toggleable\"><input class=\"sk-toggleable__control sk-hidden--visually\" id=\"sk-estimator-id-7\" type=\"checkbox\" ><label for=\"sk-estimator-id-7\" class=\"sk-toggleable__label sk-toggleable__label-arrow\">KNeighborsClassifier</label><div class=\"sk-toggleable__content\"><pre>KNeighborsClassifier()</pre></div></div></div></div></div></div></div></div></div></div>"
      ],
      "text/plain": [
       "GridSearchCV(cv=5, estimator=KNeighborsClassifier(),\n",
       "             param_grid={'algorithm': ['ball_tree', 'kd_tree', 'brute'],\n",
       "                         'n_neighbors': [5, 10, 15, 20, 25], 'p': [1, 2],\n",
       "                         'weights': ['uniform', 'distance']},\n",
       "             scoring='accuracy', verbose=3)"
      ]
     },
     "execution_count": 32,
     "metadata": {},
     "output_type": "execute_result"
    }
   ],
   "source": [
    "clf.fit(x_train,y_train)"
   ]
  },
  {
   "cell_type": "code",
   "execution_count": 33,
   "metadata": {},
   "outputs": [
    {
     "data": {
      "text/plain": [
       "{'algorithm': 'ball_tree', 'n_neighbors': 15, 'p': 1, 'weights': 'distance'}"
      ]
     },
     "execution_count": 33,
     "metadata": {},
     "output_type": "execute_result"
    }
   ],
   "source": [
    "clf.best_params_"
   ]
  },
  {
   "cell_type": "code",
   "execution_count": 34,
   "metadata": {},
   "outputs": [
    {
     "data": {
      "text/plain": [
       "0.9142857142857143"
      ]
     },
     "execution_count": 34,
     "metadata": {},
     "output_type": "execute_result"
    }
   ],
   "source": [
    "clf.best_score_"
   ]
  },
  {
   "cell_type": "code",
   "execution_count": 35,
   "metadata": {},
   "outputs": [],
   "source": [
    "y_pred=clf.predict(x_test)"
   ]
  },
  {
   "cell_type": "code",
   "execution_count": 36,
   "metadata": {},
   "outputs": [
    {
     "name": "stdout",
     "output_type": "stream",
     "text": [
      "0.9233333333333333\n",
      "[[162   7]\n",
      " [ 16 115]]\n",
      "              precision    recall  f1-score   support\n",
      "\n",
      "           0       0.91      0.96      0.93       169\n",
      "           1       0.94      0.88      0.91       131\n",
      "\n",
      "    accuracy                           0.92       300\n",
      "   macro avg       0.93      0.92      0.92       300\n",
      "weighted avg       0.92      0.92      0.92       300\n",
      "\n"
     ]
    }
   ],
   "source": [
    "print(accuracy_score(y_test,y_pred))\n",
    "print(confusion_matrix(y_test,y_pred))\n",
    "print(classification_report(y_test,y_pred))"
   ]
  },
  {
   "cell_type": "code",
   "execution_count": null,
   "metadata": {},
   "outputs": [],
   "source": []
  }
 ],
 "metadata": {
  "kernelspec": {
   "display_name": "Python 3",
   "language": "python",
   "name": "python3"
  },
  "language_info": {
   "codemirror_mode": {
    "name": "ipython",
    "version": 3
   },
   "file_extension": ".py",
   "mimetype": "text/x-python",
   "name": "python",
   "nbconvert_exporter": "python",
   "pygments_lexer": "ipython3",
   "version": "3.8.5"
  }
 },
 "nbformat": 4,
 "nbformat_minor": 4
}
